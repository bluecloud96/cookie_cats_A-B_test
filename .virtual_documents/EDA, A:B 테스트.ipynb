import pandas as pd
import numpy as np
from matplotlib import pyplot as plt
import seaborn as sns


from matplotlib import font_manager, rc

plt.rc("font", family="AppleGothic")


cookie_cat_data = pd.read_csv("./data/cookie_cats.csv")


cookie_cat_data.info()


cookie_cat_data


cookie_cat_data["sum_gamerounds"].describe()


cookie_cat_data.describe(include =["object","bool"])





cookie_cat_data.describe()


plt.hist(cookie_cat_data["sum_gamerounds"],bins = np.arange(0, 110, 10))
plt.title("sum_gamerounds 히스토그램")
plt.xlabel("sum_gamerounds")
plt.ylabel("Count")








cookie_cat_data_brounce = cookie_cat_data[cookie_cat_data['sum_gamerounds'] < 30]


cookie_cat_data_brounce_mean = cookie_cat_data_brounce.groupby(cookie_cat_data_brounce["version"])['sum_gamerounds'].mean()


ax = cookie_cat_data_brounce_mean.plot(kind="bar")
for p in ax.patches:
    height = f"{p.get_height():.2f}"  # 소수점 둘째 자리까지 포맷팅
    ax.annotate(height, 
                (p.get_x() + p.get_width() / 2., p.get_height()), 
                ha='center', va='bottom')
plt.title("version별 초반 이탈 sum_gamerounds 평균")
plt.xlabel("version")
plt.ylabel("sum_gamerounds 평균")
plt.show()



import matplotlib.pyplot as plt
import numpy as np

# 버전별로 데이터프레임 나누기
version_30 = cookie_cat_data_brounce[cookie_cat_data_brounce['version'] == 'gate_30']['sum_gamerounds']
version_40 = cookie_cat_data_brounce[cookie_cat_data_brounce['version'] == 'gate_40']['sum_gamerounds']

# bins를 40부터 5단위로 나누기
bins = np.arange(0, 45, 5)

# 두 개의 히스토그램 그리기
plt.figure(figsize=(12, 6))

plt.subplot(1, 2, 1)
plt.hist(version_30, bins=bins)
plt.title("gate_30 gate 도달전 이탈한 sum_gamerounds 히스토그램")
plt.xlim(0, 40)
plt.xlabel("sum_gamerounds")
plt.ylabel("Frequency")

plt.subplot(1, 2, 2)
plt.hist(version_40, bins=bins)
plt.title("gate_40 gate 도달전 이탈한 sum_gamerounds 히스토그램")
plt.xlim(0, 40)
plt.xlabel("sum_gamerounds")
plt.ylabel("Frequency")

plt.tight_layout()
plt.show()



cookie_cat_data_brounce["sum_gamerounds"] = np.log1p(cookie_cat_data_brounce["sum_gamerounds"])


import matplotlib.pyplot as plt
import numpy as np

# 버전별로 데이터프레임 나누기
version_30 = cookie_cat_data_brounce[cookie_cat_data_brounce['version'] == 'gate_30']['sum_gamerounds']
version_40 = cookie_cat_data_brounce[cookie_cat_data_brounce['version'] == 'gate_40']['sum_gamerounds']

# bins를 40부터 5단위로 나누기
bins = np.arange(0, 30, 1)

# 두 개의 히스토그램 그리기
plt.figure(figsize=(12, 6))

plt.subplot(1, 2, 1)
plt.hist(version_30, bins=bins)
plt.title("gate_30 gate")
plt.xlim(0, 5)
plt.xlabel("sum_gamerounds")
plt.ylabel("Frequency")

plt.subplot(1, 2, 2)
plt.hist(version_40, bins=bins)
plt.title("gate_40 gate")
plt.xlim(0, 5)
plt.xlabel("sum_gamerounds")
plt.ylabel("Frequency")

plt.tight_layout()
plt.show()



gate_30_brounce_data = cookie_cat_data_brounce[cookie_cat_data_brounce["version"] == "gate_30"]
gate_40_brounce_data = cookie_cat_data_brounce[cookie_cat_data_brounce["version"] == "gate_40"]


from scipy import stats
_, p_value_levene = stats.levene(gate_30_brounce_data['sum_gamerounds'], gate_40_brounce_data['sum_gamerounds'])
if p_value_levene > 0.05:
    print(f" p-value: {p_value_levene}, 등분산 가정 만족")
else:
    print(f" p-value: {p_value_levene}, 이분산 가정 만족")


t_statistic, p_value = stats.ttest_ind(
    a=gate_30_brounce_data['sum_gamerounds'],
    b=gate_40_brounce_data['sum_gamerounds'],
    alternative="greater",
    equal_var=True
)


print(f"p-value: {p_value}")
print(f"귀무 가설 기각: {p_value < 0.05}")








cookie_cat_data = cookie_cat_data[cookie_cat_data['sum_gamerounds'] >= 30]


import matplotlib.pyplot as plt

# 버전별로 데이터프레임 나누기
version_30 = cookie_cat_data[cookie_cat_data['version'] == 'gate_30']['sum_gamerounds']
version_40 = cookie_cat_data[cookie_cat_data['version'] == 'gate_40']['sum_gamerounds']

# 두 개의 박스플롯 그리기
plt.figure(figsize=(12, 6))

plt.subplot(1, 2, 1)
plt.boxplot(version_30)
plt.title("gate_30 sum_gamerounds 박스 플롯")
plt.xticks([1], ["sum_gamerounds"])

plt.subplot(1, 2, 2)
plt.boxplot(version_40)
plt.title("gate_40 sum_gamerounds 박스 플롯")
plt.xticks([1], ["sum_gamerounds"])

plt.tight_layout()
plt.show()



max_gamerounds_index = cookie_cat_data['sum_gamerounds'].idxmax()


cookie_cat_data = cookie_cat_data.drop(index = max_gamerounds_index)


import matplotlib.pyplot as plt

# 버전별로 데이터프레임 나누기
version_30 = cookie_cat_data[cookie_cat_data['version'] == 'gate_30']['sum_gamerounds']
version_40 = cookie_cat_data[cookie_cat_data['version'] == 'gate_40']['sum_gamerounds']

# 두 개의 박스플롯 그리기
plt.figure(figsize=(12, 6))

plt.subplot(1, 2, 1)
plt.boxplot(version_30)
plt.title("gate_30 sum_gamerounds 박스 플롯")
plt.xticks([1], ["sum_gamerounds"])

plt.subplot(1, 2, 2)
plt.boxplot(version_40)
plt.title("gate_40 sum_gamerounds 박스 플롯")
plt.xticks([1], ["sum_gamerounds"])

plt.tight_layout()
plt.show()



retention_user_mean = cookie_cat_data.groupby(cookie_cat_data["version"])['sum_gamerounds'].mean()


ax = retention_user_mean.plot(kind="bar")
for p in ax.patches:
    height = f"{p.get_height():.2f}"  # 소수점 둘째 자리까지 포맷팅
    ax.annotate(height, 
                (p.get_x() + p.get_width() / 2., p.get_height()), 
                ha='center', va='bottom')
plt.title("version별 retained 유저 sum_gamerounds 평균")
plt.xlabel("version")
plt.ylabel("sum_gamerounds 평균")
plt.show()



import matplotlib.pyplot as plt
import numpy as np

# 버전별로 데이터프레임 나누기
version_30 = cookie_cat_data[cookie_cat_data['version'] == 'gate_30']['sum_gamerounds']
version_40 = cookie_cat_data[cookie_cat_data['version'] == 'gate_40']['sum_gamerounds']
bins = np.arange(0, 300, 10)

# 두 개의 히스토그램 그리기
plt.figure(figsize=(12, 6))

plt.subplot(1, 2, 1)
plt.hist(version_30, bins=bins)
plt.title("gate_30 sum_gamerounds")
plt.xlim(0, 300)
plt.xlabel("sum_gamerounds")
plt.ylabel("Frequency")

plt.subplot(1, 2, 2)
plt.hist(version_40, bins=bins)
plt.title("gate_40 sum_gamerounds")
plt.xlim(0, 300)
plt.xlabel("sum_gamerounds")
plt.ylabel("Frequency")

plt.tight_layout()
plt.show()



cookie_cat_data["sum_gamerounds"] = np.log1p(cookie_cat_data["sum_gamerounds"])


import matplotlib.pyplot as plt
import numpy as np

# 버전별로 데이터프레임 나누기
version_30 = cookie_cat_data[cookie_cat_data['version'] == 'gate_30']['sum_gamerounds']
version_40 = cookie_cat_data[cookie_cat_data['version'] == 'gate_40']['sum_gamerounds']


bins = np.arange(0, 11, 1)

# 두 개의 히스토그램 그리기
plt.figure(figsize=(12, 6))

plt.subplot(1, 2, 1)
plt.hist(version_30, bins=bins)
plt.title("gate_30 retained users sum_gamerounds 히스토그램")
plt.xlim(0, 10)
plt.xlabel("sum_gamerounds")
plt.ylabel("Frequency")

plt.subplot(1, 2, 2)
plt.hist(version_40, bins=bins)
plt.title("gate_40 retained users sum_gamerounds 히스토그램")
plt.xlim(0, 10)
plt.xlabel("sum_gamerounds")
plt.ylabel("Frequency")

plt.tight_layout()
plt.show()



import matplotlib.pyplot as plt

# 버전별로 데이터프레임 나누기
version_30 = cookie_cat_data[cookie_cat_data['version'] == 'gate_30']['sum_gamerounds']
version_40 = cookie_cat_data[cookie_cat_data['version'] == 'gate_40']['sum_gamerounds']

# 두 개의 박스플롯 그리기
plt.figure(figsize=(12, 6))

plt.subplot(1, 2, 1)
plt.boxplot(version_30)
plt.title("gate_30 sum_gamerounds 박스 플롯")
plt.xticks([1], ["sum_gamerounds"])

plt.subplot(1, 2, 2)
plt.boxplot(version_40)
plt.title("gate_40 sum_gamerounds 박스 플롯")
plt.xticks([1], ["sum_gamerounds"])

plt.tight_layout()
plt.show()






gate_30_data = cookie_cat_data[cookie_cat_data["version"] == "gate_30"]
gate_40_data = cookie_cat_data[cookie_cat_data["version"] == "gate_40"]


from scipy import stats
_, p_value_levene = stats.levene(gate_30_data['sum_gamerounds'], gate_40_data['sum_gamerounds'])
if p_value_levene > 0.05:
    print(f" p-value: {p_value_levene}, 등분산 가정 만족")
else:
    print(f" p-value: {p_value_levene}, 이분산 가정 만족")


t_statistic, p_value = stats.ttest_ind(
    a=gate_30_data['sum_gamerounds'],
    b=gate_40_data['sum_gamerounds'],
    alternative="greater",
    equal_var=True
)


print(f"p-value: {p_value}")
print(f"귀무 가설 기각: {p_value < 0.05}")





table_1 = pd.crosstab(cookie_cat_data['version'],cookie_cat_data['retention_1'],margins=True)


from scipy.stats import chi2_contingency

chi2_statistics, p_value, _, _ = chi2_contingency(table_1)

print("Chi-square statistic:", chi2_statistics)
print("P-value:", p_value)
print("귀무가설 기각:", p_value < 0.05)


table_1





table_7 = pd.crosstab(cookie_cat_data['version'],cookie_cat_data['retention_7'],margins=True)


from scipy.stats import chi2_contingency

chi2_statistics, p_value, _, _ = chi2_contingency(table_7)

print("Chi-square statistic:", chi2_statistics)
print("P-value:", p_value)
print("귀무가설 기각:", p_value < 0.05)


table_7





def create_combined_retention_pie_charts(data, version_column, retention_columns):
    versions = data[version_column].unique()
    
    fig, axes = plt.subplots(len(retention_columns), len(versions), figsize=(12, 12))
    
    for i, retention_column in enumerate(retention_columns):
        for j, version in enumerate(versions):
            version_data = data[data[version_column] == version]
            retention_counts = version_data[retention_column].value_counts()
            axes[i, j].pie(retention_counts, labels=retention_counts.index, autopct='%1.1f%%', startangle=140, colors=['#ff9999','#66b3ff'])
            axes[i, j].set_title(f'{version} - {retention_column}')
    
    plt.suptitle(f'Retention Pie Charts by Version', fontsize=16)
    plt.tight_layout(rect=[0, 0, 1, 0.96])
    plt.show()


create_combined_retention_pie_charts(cookie_cat_data, 'version', ['retention_1', 'retention_7'])

